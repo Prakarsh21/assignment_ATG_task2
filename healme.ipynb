{
  "nbformat": 4,
  "nbformat_minor": 0,
  "metadata": {
    "colab": {
      "provenance": [],
      "gpuType": "T4"
    },
    "kernelspec": {
      "name": "python3",
      "display_name": "Python 3"
    },
    "language_info": {
      "name": "python"
    },
    "accelerator": "GPU",
    "widgets": {
      "application/vnd.jupyter.widget-state+json": {
        "a6bf1bcbcc50487b8d952f2edcedeb0c": {
          "model_module": "@jupyter-widgets/controls",
          "model_name": "HBoxModel",
          "model_module_version": "1.5.0",
          "state": {
            "_dom_classes": [],
            "_model_module": "@jupyter-widgets/controls",
            "_model_module_version": "1.5.0",
            "_model_name": "HBoxModel",
            "_view_count": null,
            "_view_module": "@jupyter-widgets/controls",
            "_view_module_version": "1.5.0",
            "_view_name": "HBoxView",
            "box_style": "",
            "children": [
              "IPY_MODEL_109920464b884cac837f8fcb9b3349dc",
              "IPY_MODEL_670e4f69208544aca30e01b6ad11bc13",
              "IPY_MODEL_27055a420c1e46d4a224945a9a8ea3ea"
            ],
            "layout": "IPY_MODEL_1dfc15324c594edba2173eea74aae8c0"
          }
        },
        "109920464b884cac837f8fcb9b3349dc": {
          "model_module": "@jupyter-widgets/controls",
          "model_name": "HTMLModel",
          "model_module_version": "1.5.0",
          "state": {
            "_dom_classes": [],
            "_model_module": "@jupyter-widgets/controls",
            "_model_module_version": "1.5.0",
            "_model_name": "HTMLModel",
            "_view_count": null,
            "_view_module": "@jupyter-widgets/controls",
            "_view_module_version": "1.5.0",
            "_view_name": "HTMLView",
            "description": "",
            "description_tooltip": null,
            "layout": "IPY_MODEL_91fa1b9fdd20499ea41806bf28bd5e8e",
            "placeholder": "​",
            "style": "IPY_MODEL_669117ff122146e49950626654ae0f84",
            "value": "Map: 100%"
          }
        },
        "670e4f69208544aca30e01b6ad11bc13": {
          "model_module": "@jupyter-widgets/controls",
          "model_name": "FloatProgressModel",
          "model_module_version": "1.5.0",
          "state": {
            "_dom_classes": [],
            "_model_module": "@jupyter-widgets/controls",
            "_model_module_version": "1.5.0",
            "_model_name": "FloatProgressModel",
            "_view_count": null,
            "_view_module": "@jupyter-widgets/controls",
            "_view_module_version": "1.5.0",
            "_view_name": "ProgressView",
            "bar_style": "success",
            "description": "",
            "description_tooltip": null,
            "layout": "IPY_MODEL_de107fb91d8f47e6ac6351d1bee50aa8",
            "max": 25000,
            "min": 0,
            "orientation": "horizontal",
            "style": "IPY_MODEL_e033128ee6e54103855ff016d4216c08",
            "value": 25000
          }
        },
        "27055a420c1e46d4a224945a9a8ea3ea": {
          "model_module": "@jupyter-widgets/controls",
          "model_name": "HTMLModel",
          "model_module_version": "1.5.0",
          "state": {
            "_dom_classes": [],
            "_model_module": "@jupyter-widgets/controls",
            "_model_module_version": "1.5.0",
            "_model_name": "HTMLModel",
            "_view_count": null,
            "_view_module": "@jupyter-widgets/controls",
            "_view_module_version": "1.5.0",
            "_view_name": "HTMLView",
            "description": "",
            "description_tooltip": null,
            "layout": "IPY_MODEL_b178ac60c75b48ebaa64ba79dd1eff62",
            "placeholder": "​",
            "style": "IPY_MODEL_4c497a683e564e699b2bc8753597d2b9",
            "value": " 25000/25000 [01:44&lt;00:00, 288.85 examples/s]"
          }
        },
        "1dfc15324c594edba2173eea74aae8c0": {
          "model_module": "@jupyter-widgets/base",
          "model_name": "LayoutModel",
          "model_module_version": "1.2.0",
          "state": {
            "_model_module": "@jupyter-widgets/base",
            "_model_module_version": "1.2.0",
            "_model_name": "LayoutModel",
            "_view_count": null,
            "_view_module": "@jupyter-widgets/base",
            "_view_module_version": "1.2.0",
            "_view_name": "LayoutView",
            "align_content": null,
            "align_items": null,
            "align_self": null,
            "border": null,
            "bottom": null,
            "display": null,
            "flex": null,
            "flex_flow": null,
            "grid_area": null,
            "grid_auto_columns": null,
            "grid_auto_flow": null,
            "grid_auto_rows": null,
            "grid_column": null,
            "grid_gap": null,
            "grid_row": null,
            "grid_template_areas": null,
            "grid_template_columns": null,
            "grid_template_rows": null,
            "height": null,
            "justify_content": null,
            "justify_items": null,
            "left": null,
            "margin": null,
            "max_height": null,
            "max_width": null,
            "min_height": null,
            "min_width": null,
            "object_fit": null,
            "object_position": null,
            "order": null,
            "overflow": null,
            "overflow_x": null,
            "overflow_y": null,
            "padding": null,
            "right": null,
            "top": null,
            "visibility": null,
            "width": null
          }
        },
        "91fa1b9fdd20499ea41806bf28bd5e8e": {
          "model_module": "@jupyter-widgets/base",
          "model_name": "LayoutModel",
          "model_module_version": "1.2.0",
          "state": {
            "_model_module": "@jupyter-widgets/base",
            "_model_module_version": "1.2.0",
            "_model_name": "LayoutModel",
            "_view_count": null,
            "_view_module": "@jupyter-widgets/base",
            "_view_module_version": "1.2.0",
            "_view_name": "LayoutView",
            "align_content": null,
            "align_items": null,
            "align_self": null,
            "border": null,
            "bottom": null,
            "display": null,
            "flex": null,
            "flex_flow": null,
            "grid_area": null,
            "grid_auto_columns": null,
            "grid_auto_flow": null,
            "grid_auto_rows": null,
            "grid_column": null,
            "grid_gap": null,
            "grid_row": null,
            "grid_template_areas": null,
            "grid_template_columns": null,
            "grid_template_rows": null,
            "height": null,
            "justify_content": null,
            "justify_items": null,
            "left": null,
            "margin": null,
            "max_height": null,
            "max_width": null,
            "min_height": null,
            "min_width": null,
            "object_fit": null,
            "object_position": null,
            "order": null,
            "overflow": null,
            "overflow_x": null,
            "overflow_y": null,
            "padding": null,
            "right": null,
            "top": null,
            "visibility": null,
            "width": null
          }
        },
        "669117ff122146e49950626654ae0f84": {
          "model_module": "@jupyter-widgets/controls",
          "model_name": "DescriptionStyleModel",
          "model_module_version": "1.5.0",
          "state": {
            "_model_module": "@jupyter-widgets/controls",
            "_model_module_version": "1.5.0",
            "_model_name": "DescriptionStyleModel",
            "_view_count": null,
            "_view_module": "@jupyter-widgets/base",
            "_view_module_version": "1.2.0",
            "_view_name": "StyleView",
            "description_width": ""
          }
        },
        "de107fb91d8f47e6ac6351d1bee50aa8": {
          "model_module": "@jupyter-widgets/base",
          "model_name": "LayoutModel",
          "model_module_version": "1.2.0",
          "state": {
            "_model_module": "@jupyter-widgets/base",
            "_model_module_version": "1.2.0",
            "_model_name": "LayoutModel",
            "_view_count": null,
            "_view_module": "@jupyter-widgets/base",
            "_view_module_version": "1.2.0",
            "_view_name": "LayoutView",
            "align_content": null,
            "align_items": null,
            "align_self": null,
            "border": null,
            "bottom": null,
            "display": null,
            "flex": null,
            "flex_flow": null,
            "grid_area": null,
            "grid_auto_columns": null,
            "grid_auto_flow": null,
            "grid_auto_rows": null,
            "grid_column": null,
            "grid_gap": null,
            "grid_row": null,
            "grid_template_areas": null,
            "grid_template_columns": null,
            "grid_template_rows": null,
            "height": null,
            "justify_content": null,
            "justify_items": null,
            "left": null,
            "margin": null,
            "max_height": null,
            "max_width": null,
            "min_height": null,
            "min_width": null,
            "object_fit": null,
            "object_position": null,
            "order": null,
            "overflow": null,
            "overflow_x": null,
            "overflow_y": null,
            "padding": null,
            "right": null,
            "top": null,
            "visibility": null,
            "width": null
          }
        },
        "e033128ee6e54103855ff016d4216c08": {
          "model_module": "@jupyter-widgets/controls",
          "model_name": "ProgressStyleModel",
          "model_module_version": "1.5.0",
          "state": {
            "_model_module": "@jupyter-widgets/controls",
            "_model_module_version": "1.5.0",
            "_model_name": "ProgressStyleModel",
            "_view_count": null,
            "_view_module": "@jupyter-widgets/base",
            "_view_module_version": "1.2.0",
            "_view_name": "StyleView",
            "bar_color": null,
            "description_width": ""
          }
        },
        "b178ac60c75b48ebaa64ba79dd1eff62": {
          "model_module": "@jupyter-widgets/base",
          "model_name": "LayoutModel",
          "model_module_version": "1.2.0",
          "state": {
            "_model_module": "@jupyter-widgets/base",
            "_model_module_version": "1.2.0",
            "_model_name": "LayoutModel",
            "_view_count": null,
            "_view_module": "@jupyter-widgets/base",
            "_view_module_version": "1.2.0",
            "_view_name": "LayoutView",
            "align_content": null,
            "align_items": null,
            "align_self": null,
            "border": null,
            "bottom": null,
            "display": null,
            "flex": null,
            "flex_flow": null,
            "grid_area": null,
            "grid_auto_columns": null,
            "grid_auto_flow": null,
            "grid_auto_rows": null,
            "grid_column": null,
            "grid_gap": null,
            "grid_row": null,
            "grid_template_areas": null,
            "grid_template_columns": null,
            "grid_template_rows": null,
            "height": null,
            "justify_content": null,
            "justify_items": null,
            "left": null,
            "margin": null,
            "max_height": null,
            "max_width": null,
            "min_height": null,
            "min_width": null,
            "object_fit": null,
            "object_position": null,
            "order": null,
            "overflow": null,
            "overflow_x": null,
            "overflow_y": null,
            "padding": null,
            "right": null,
            "top": null,
            "visibility": null,
            "width": null
          }
        },
        "4c497a683e564e699b2bc8753597d2b9": {
          "model_module": "@jupyter-widgets/controls",
          "model_name": "DescriptionStyleModel",
          "model_module_version": "1.5.0",
          "state": {
            "_model_module": "@jupyter-widgets/controls",
            "_model_module_version": "1.5.0",
            "_model_name": "DescriptionStyleModel",
            "_view_count": null,
            "_view_module": "@jupyter-widgets/base",
            "_view_module_version": "1.2.0",
            "_view_name": "StyleView",
            "description_width": ""
          }
        },
        "1b62eed6a4b04f0d826e1ee02345dbe2": {
          "model_module": "@jupyter-widgets/controls",
          "model_name": "HBoxModel",
          "model_module_version": "1.5.0",
          "state": {
            "_dom_classes": [],
            "_model_module": "@jupyter-widgets/controls",
            "_model_module_version": "1.5.0",
            "_model_name": "HBoxModel",
            "_view_count": null,
            "_view_module": "@jupyter-widgets/controls",
            "_view_module_version": "1.5.0",
            "_view_name": "HBoxView",
            "box_style": "",
            "children": [
              "IPY_MODEL_1600f64577794dc2bb0254020ed21df4",
              "IPY_MODEL_17bfc73aa1a94296849e330e969128e2",
              "IPY_MODEL_0fb56f053e694cbbb9df5efdbf0b0b3a"
            ],
            "layout": "IPY_MODEL_6220239b3b8740eb91720b7fffa175a8"
          }
        },
        "1600f64577794dc2bb0254020ed21df4": {
          "model_module": "@jupyter-widgets/controls",
          "model_name": "HTMLModel",
          "model_module_version": "1.5.0",
          "state": {
            "_dom_classes": [],
            "_model_module": "@jupyter-widgets/controls",
            "_model_module_version": "1.5.0",
            "_model_name": "HTMLModel",
            "_view_count": null,
            "_view_module": "@jupyter-widgets/controls",
            "_view_module_version": "1.5.0",
            "_view_name": "HTMLView",
            "description": "",
            "description_tooltip": null,
            "layout": "IPY_MODEL_71d075b1855e407ea291f494b1277553",
            "placeholder": "​",
            "style": "IPY_MODEL_1ceab745f2fd4e6eb5c39a92e151ad21",
            "value": "Map: 100%"
          }
        },
        "17bfc73aa1a94296849e330e969128e2": {
          "model_module": "@jupyter-widgets/controls",
          "model_name": "FloatProgressModel",
          "model_module_version": "1.5.0",
          "state": {
            "_dom_classes": [],
            "_model_module": "@jupyter-widgets/controls",
            "_model_module_version": "1.5.0",
            "_model_name": "FloatProgressModel",
            "_view_count": null,
            "_view_module": "@jupyter-widgets/controls",
            "_view_module_version": "1.5.0",
            "_view_name": "ProgressView",
            "bar_style": "success",
            "description": "",
            "description_tooltip": null,
            "layout": "IPY_MODEL_581e06948dcd4311a366db84d8216eb2",
            "max": 25000,
            "min": 0,
            "orientation": "horizontal",
            "style": "IPY_MODEL_7a070d519a0745069abd92e5a407d808",
            "value": 25000
          }
        },
        "0fb56f053e694cbbb9df5efdbf0b0b3a": {
          "model_module": "@jupyter-widgets/controls",
          "model_name": "HTMLModel",
          "model_module_version": "1.5.0",
          "state": {
            "_dom_classes": [],
            "_model_module": "@jupyter-widgets/controls",
            "_model_module_version": "1.5.0",
            "_model_name": "HTMLModel",
            "_view_count": null,
            "_view_module": "@jupyter-widgets/controls",
            "_view_module_version": "1.5.0",
            "_view_name": "HTMLView",
            "description": "",
            "description_tooltip": null,
            "layout": "IPY_MODEL_3b3cc8b98a634b7fa6bb92c5aa1fb1f2",
            "placeholder": "​",
            "style": "IPY_MODEL_705bae4074354917895f06dedcc2401b",
            "value": " 25000/25000 [01:26&lt;00:00, 298.60 examples/s]"
          }
        },
        "6220239b3b8740eb91720b7fffa175a8": {
          "model_module": "@jupyter-widgets/base",
          "model_name": "LayoutModel",
          "model_module_version": "1.2.0",
          "state": {
            "_model_module": "@jupyter-widgets/base",
            "_model_module_version": "1.2.0",
            "_model_name": "LayoutModel",
            "_view_count": null,
            "_view_module": "@jupyter-widgets/base",
            "_view_module_version": "1.2.0",
            "_view_name": "LayoutView",
            "align_content": null,
            "align_items": null,
            "align_self": null,
            "border": null,
            "bottom": null,
            "display": null,
            "flex": null,
            "flex_flow": null,
            "grid_area": null,
            "grid_auto_columns": null,
            "grid_auto_flow": null,
            "grid_auto_rows": null,
            "grid_column": null,
            "grid_gap": null,
            "grid_row": null,
            "grid_template_areas": null,
            "grid_template_columns": null,
            "grid_template_rows": null,
            "height": null,
            "justify_content": null,
            "justify_items": null,
            "left": null,
            "margin": null,
            "max_height": null,
            "max_width": null,
            "min_height": null,
            "min_width": null,
            "object_fit": null,
            "object_position": null,
            "order": null,
            "overflow": null,
            "overflow_x": null,
            "overflow_y": null,
            "padding": null,
            "right": null,
            "top": null,
            "visibility": null,
            "width": null
          }
        },
        "71d075b1855e407ea291f494b1277553": {
          "model_module": "@jupyter-widgets/base",
          "model_name": "LayoutModel",
          "model_module_version": "1.2.0",
          "state": {
            "_model_module": "@jupyter-widgets/base",
            "_model_module_version": "1.2.0",
            "_model_name": "LayoutModel",
            "_view_count": null,
            "_view_module": "@jupyter-widgets/base",
            "_view_module_version": "1.2.0",
            "_view_name": "LayoutView",
            "align_content": null,
            "align_items": null,
            "align_self": null,
            "border": null,
            "bottom": null,
            "display": null,
            "flex": null,
            "flex_flow": null,
            "grid_area": null,
            "grid_auto_columns": null,
            "grid_auto_flow": null,
            "grid_auto_rows": null,
            "grid_column": null,
            "grid_gap": null,
            "grid_row": null,
            "grid_template_areas": null,
            "grid_template_columns": null,
            "grid_template_rows": null,
            "height": null,
            "justify_content": null,
            "justify_items": null,
            "left": null,
            "margin": null,
            "max_height": null,
            "max_width": null,
            "min_height": null,
            "min_width": null,
            "object_fit": null,
            "object_position": null,
            "order": null,
            "overflow": null,
            "overflow_x": null,
            "overflow_y": null,
            "padding": null,
            "right": null,
            "top": null,
            "visibility": null,
            "width": null
          }
        },
        "1ceab745f2fd4e6eb5c39a92e151ad21": {
          "model_module": "@jupyter-widgets/controls",
          "model_name": "DescriptionStyleModel",
          "model_module_version": "1.5.0",
          "state": {
            "_model_module": "@jupyter-widgets/controls",
            "_model_module_version": "1.5.0",
            "_model_name": "DescriptionStyleModel",
            "_view_count": null,
            "_view_module": "@jupyter-widgets/base",
            "_view_module_version": "1.2.0",
            "_view_name": "StyleView",
            "description_width": ""
          }
        },
        "581e06948dcd4311a366db84d8216eb2": {
          "model_module": "@jupyter-widgets/base",
          "model_name": "LayoutModel",
          "model_module_version": "1.2.0",
          "state": {
            "_model_module": "@jupyter-widgets/base",
            "_model_module_version": "1.2.0",
            "_model_name": "LayoutModel",
            "_view_count": null,
            "_view_module": "@jupyter-widgets/base",
            "_view_module_version": "1.2.0",
            "_view_name": "LayoutView",
            "align_content": null,
            "align_items": null,
            "align_self": null,
            "border": null,
            "bottom": null,
            "display": null,
            "flex": null,
            "flex_flow": null,
            "grid_area": null,
            "grid_auto_columns": null,
            "grid_auto_flow": null,
            "grid_auto_rows": null,
            "grid_column": null,
            "grid_gap": null,
            "grid_row": null,
            "grid_template_areas": null,
            "grid_template_columns": null,
            "grid_template_rows": null,
            "height": null,
            "justify_content": null,
            "justify_items": null,
            "left": null,
            "margin": null,
            "max_height": null,
            "max_width": null,
            "min_height": null,
            "min_width": null,
            "object_fit": null,
            "object_position": null,
            "order": null,
            "overflow": null,
            "overflow_x": null,
            "overflow_y": null,
            "padding": null,
            "right": null,
            "top": null,
            "visibility": null,
            "width": null
          }
        },
        "7a070d519a0745069abd92e5a407d808": {
          "model_module": "@jupyter-widgets/controls",
          "model_name": "ProgressStyleModel",
          "model_module_version": "1.5.0",
          "state": {
            "_model_module": "@jupyter-widgets/controls",
            "_model_module_version": "1.5.0",
            "_model_name": "ProgressStyleModel",
            "_view_count": null,
            "_view_module": "@jupyter-widgets/base",
            "_view_module_version": "1.2.0",
            "_view_name": "StyleView",
            "bar_color": null,
            "description_width": ""
          }
        },
        "3b3cc8b98a634b7fa6bb92c5aa1fb1f2": {
          "model_module": "@jupyter-widgets/base",
          "model_name": "LayoutModel",
          "model_module_version": "1.2.0",
          "state": {
            "_model_module": "@jupyter-widgets/base",
            "_model_module_version": "1.2.0",
            "_model_name": "LayoutModel",
            "_view_count": null,
            "_view_module": "@jupyter-widgets/base",
            "_view_module_version": "1.2.0",
            "_view_name": "LayoutView",
            "align_content": null,
            "align_items": null,
            "align_self": null,
            "border": null,
            "bottom": null,
            "display": null,
            "flex": null,
            "flex_flow": null,
            "grid_area": null,
            "grid_auto_columns": null,
            "grid_auto_flow": null,
            "grid_auto_rows": null,
            "grid_column": null,
            "grid_gap": null,
            "grid_row": null,
            "grid_template_areas": null,
            "grid_template_columns": null,
            "grid_template_rows": null,
            "height": null,
            "justify_content": null,
            "justify_items": null,
            "left": null,
            "margin": null,
            "max_height": null,
            "max_width": null,
            "min_height": null,
            "min_width": null,
            "object_fit": null,
            "object_position": null,
            "order": null,
            "overflow": null,
            "overflow_x": null,
            "overflow_y": null,
            "padding": null,
            "right": null,
            "top": null,
            "visibility": null,
            "width": null
          }
        },
        "705bae4074354917895f06dedcc2401b": {
          "model_module": "@jupyter-widgets/controls",
          "model_name": "DescriptionStyleModel",
          "model_module_version": "1.5.0",
          "state": {
            "_model_module": "@jupyter-widgets/controls",
            "_model_module_version": "1.5.0",
            "_model_name": "DescriptionStyleModel",
            "_view_count": null,
            "_view_module": "@jupyter-widgets/base",
            "_view_module_version": "1.2.0",
            "_view_name": "StyleView",
            "description_width": ""
          }
        },
        "6577055bedb64a999023310a15ea3519": {
          "model_module": "@jupyter-widgets/controls",
          "model_name": "HBoxModel",
          "model_module_version": "1.5.0",
          "state": {
            "_dom_classes": [],
            "_model_module": "@jupyter-widgets/controls",
            "_model_module_version": "1.5.0",
            "_model_name": "HBoxModel",
            "_view_count": null,
            "_view_module": "@jupyter-widgets/controls",
            "_view_module_version": "1.5.0",
            "_view_name": "HBoxView",
            "box_style": "",
            "children": [
              "IPY_MODEL_da348b844fd342d3aa099682612022a9",
              "IPY_MODEL_7a4e1fff1073403aa4f252a55fcb61c4",
              "IPY_MODEL_c7394443066f47e489a1fcbd2a0db372"
            ],
            "layout": "IPY_MODEL_205935131c0e451f8d670da2a5440ce5"
          }
        },
        "da348b844fd342d3aa099682612022a9": {
          "model_module": "@jupyter-widgets/controls",
          "model_name": "HTMLModel",
          "model_module_version": "1.5.0",
          "state": {
            "_dom_classes": [],
            "_model_module": "@jupyter-widgets/controls",
            "_model_module_version": "1.5.0",
            "_model_name": "HTMLModel",
            "_view_count": null,
            "_view_module": "@jupyter-widgets/controls",
            "_view_module_version": "1.5.0",
            "_view_name": "HTMLView",
            "description": "",
            "description_tooltip": null,
            "layout": "IPY_MODEL_0233c46fb9e5442a92ca3b3c9086ca0f",
            "placeholder": "​",
            "style": "IPY_MODEL_0bcb8d912a634712b2161fb29dc9018f",
            "value": "model.safetensors: 100%"
          }
        },
        "7a4e1fff1073403aa4f252a55fcb61c4": {
          "model_module": "@jupyter-widgets/controls",
          "model_name": "FloatProgressModel",
          "model_module_version": "1.5.0",
          "state": {
            "_dom_classes": [],
            "_model_module": "@jupyter-widgets/controls",
            "_model_module_version": "1.5.0",
            "_model_name": "FloatProgressModel",
            "_view_count": null,
            "_view_module": "@jupyter-widgets/controls",
            "_view_module_version": "1.5.0",
            "_view_name": "ProgressView",
            "bar_style": "success",
            "description": "",
            "description_tooltip": null,
            "layout": "IPY_MODEL_869927d1ad8f4416a75f569c909caeea",
            "max": 267954768,
            "min": 0,
            "orientation": "horizontal",
            "style": "IPY_MODEL_b82b33a077234a1a9f42093a3061ea3b",
            "value": 267954768
          }
        },
        "c7394443066f47e489a1fcbd2a0db372": {
          "model_module": "@jupyter-widgets/controls",
          "model_name": "HTMLModel",
          "model_module_version": "1.5.0",
          "state": {
            "_dom_classes": [],
            "_model_module": "@jupyter-widgets/controls",
            "_model_module_version": "1.5.0",
            "_model_name": "HTMLModel",
            "_view_count": null,
            "_view_module": "@jupyter-widgets/controls",
            "_view_module_version": "1.5.0",
            "_view_name": "HTMLView",
            "description": "",
            "description_tooltip": null,
            "layout": "IPY_MODEL_4d2818f79bc5450aa818d4f0e7f31f32",
            "placeholder": "​",
            "style": "IPY_MODEL_867f0dd832e04d7f92808f352476de97",
            "value": " 268M/268M [00:00&lt;00:00, 294MB/s]"
          }
        },
        "205935131c0e451f8d670da2a5440ce5": {
          "model_module": "@jupyter-widgets/base",
          "model_name": "LayoutModel",
          "model_module_version": "1.2.0",
          "state": {
            "_model_module": "@jupyter-widgets/base",
            "_model_module_version": "1.2.0",
            "_model_name": "LayoutModel",
            "_view_count": null,
            "_view_module": "@jupyter-widgets/base",
            "_view_module_version": "1.2.0",
            "_view_name": "LayoutView",
            "align_content": null,
            "align_items": null,
            "align_self": null,
            "border": null,
            "bottom": null,
            "display": null,
            "flex": null,
            "flex_flow": null,
            "grid_area": null,
            "grid_auto_columns": null,
            "grid_auto_flow": null,
            "grid_auto_rows": null,
            "grid_column": null,
            "grid_gap": null,
            "grid_row": null,
            "grid_template_areas": null,
            "grid_template_columns": null,
            "grid_template_rows": null,
            "height": null,
            "justify_content": null,
            "justify_items": null,
            "left": null,
            "margin": null,
            "max_height": null,
            "max_width": null,
            "min_height": null,
            "min_width": null,
            "object_fit": null,
            "object_position": null,
            "order": null,
            "overflow": null,
            "overflow_x": null,
            "overflow_y": null,
            "padding": null,
            "right": null,
            "top": null,
            "visibility": null,
            "width": null
          }
        },
        "0233c46fb9e5442a92ca3b3c9086ca0f": {
          "model_module": "@jupyter-widgets/base",
          "model_name": "LayoutModel",
          "model_module_version": "1.2.0",
          "state": {
            "_model_module": "@jupyter-widgets/base",
            "_model_module_version": "1.2.0",
            "_model_name": "LayoutModel",
            "_view_count": null,
            "_view_module": "@jupyter-widgets/base",
            "_view_module_version": "1.2.0",
            "_view_name": "LayoutView",
            "align_content": null,
            "align_items": null,
            "align_self": null,
            "border": null,
            "bottom": null,
            "display": null,
            "flex": null,
            "flex_flow": null,
            "grid_area": null,
            "grid_auto_columns": null,
            "grid_auto_flow": null,
            "grid_auto_rows": null,
            "grid_column": null,
            "grid_gap": null,
            "grid_row": null,
            "grid_template_areas": null,
            "grid_template_columns": null,
            "grid_template_rows": null,
            "height": null,
            "justify_content": null,
            "justify_items": null,
            "left": null,
            "margin": null,
            "max_height": null,
            "max_width": null,
            "min_height": null,
            "min_width": null,
            "object_fit": null,
            "object_position": null,
            "order": null,
            "overflow": null,
            "overflow_x": null,
            "overflow_y": null,
            "padding": null,
            "right": null,
            "top": null,
            "visibility": null,
            "width": null
          }
        },
        "0bcb8d912a634712b2161fb29dc9018f": {
          "model_module": "@jupyter-widgets/controls",
          "model_name": "DescriptionStyleModel",
          "model_module_version": "1.5.0",
          "state": {
            "_model_module": "@jupyter-widgets/controls",
            "_model_module_version": "1.5.0",
            "_model_name": "DescriptionStyleModel",
            "_view_count": null,
            "_view_module": "@jupyter-widgets/base",
            "_view_module_version": "1.2.0",
            "_view_name": "StyleView",
            "description_width": ""
          }
        },
        "869927d1ad8f4416a75f569c909caeea": {
          "model_module": "@jupyter-widgets/base",
          "model_name": "LayoutModel",
          "model_module_version": "1.2.0",
          "state": {
            "_model_module": "@jupyter-widgets/base",
            "_model_module_version": "1.2.0",
            "_model_name": "LayoutModel",
            "_view_count": null,
            "_view_module": "@jupyter-widgets/base",
            "_view_module_version": "1.2.0",
            "_view_name": "LayoutView",
            "align_content": null,
            "align_items": null,
            "align_self": null,
            "border": null,
            "bottom": null,
            "display": null,
            "flex": null,
            "flex_flow": null,
            "grid_area": null,
            "grid_auto_columns": null,
            "grid_auto_flow": null,
            "grid_auto_rows": null,
            "grid_column": null,
            "grid_gap": null,
            "grid_row": null,
            "grid_template_areas": null,
            "grid_template_columns": null,
            "grid_template_rows": null,
            "height": null,
            "justify_content": null,
            "justify_items": null,
            "left": null,
            "margin": null,
            "max_height": null,
            "max_width": null,
            "min_height": null,
            "min_width": null,
            "object_fit": null,
            "object_position": null,
            "order": null,
            "overflow": null,
            "overflow_x": null,
            "overflow_y": null,
            "padding": null,
            "right": null,
            "top": null,
            "visibility": null,
            "width": null
          }
        },
        "b82b33a077234a1a9f42093a3061ea3b": {
          "model_module": "@jupyter-widgets/controls",
          "model_name": "ProgressStyleModel",
          "model_module_version": "1.5.0",
          "state": {
            "_model_module": "@jupyter-widgets/controls",
            "_model_module_version": "1.5.0",
            "_model_name": "ProgressStyleModel",
            "_view_count": null,
            "_view_module": "@jupyter-widgets/base",
            "_view_module_version": "1.2.0",
            "_view_name": "StyleView",
            "bar_color": null,
            "description_width": ""
          }
        },
        "4d2818f79bc5450aa818d4f0e7f31f32": {
          "model_module": "@jupyter-widgets/base",
          "model_name": "LayoutModel",
          "model_module_version": "1.2.0",
          "state": {
            "_model_module": "@jupyter-widgets/base",
            "_model_module_version": "1.2.0",
            "_model_name": "LayoutModel",
            "_view_count": null,
            "_view_module": "@jupyter-widgets/base",
            "_view_module_version": "1.2.0",
            "_view_name": "LayoutView",
            "align_content": null,
            "align_items": null,
            "align_self": null,
            "border": null,
            "bottom": null,
            "display": null,
            "flex": null,
            "flex_flow": null,
            "grid_area": null,
            "grid_auto_columns": null,
            "grid_auto_flow": null,
            "grid_auto_rows": null,
            "grid_column": null,
            "grid_gap": null,
            "grid_row": null,
            "grid_template_areas": null,
            "grid_template_columns": null,
            "grid_template_rows": null,
            "height": null,
            "justify_content": null,
            "justify_items": null,
            "left": null,
            "margin": null,
            "max_height": null,
            "max_width": null,
            "min_height": null,
            "min_width": null,
            "object_fit": null,
            "object_position": null,
            "order": null,
            "overflow": null,
            "overflow_x": null,
            "overflow_y": null,
            "padding": null,
            "right": null,
            "top": null,
            "visibility": null,
            "width": null
          }
        },
        "867f0dd832e04d7f92808f352476de97": {
          "model_module": "@jupyter-widgets/controls",
          "model_name": "DescriptionStyleModel",
          "model_module_version": "1.5.0",
          "state": {
            "_model_module": "@jupyter-widgets/controls",
            "_model_module_version": "1.5.0",
            "_model_name": "DescriptionStyleModel",
            "_view_count": null,
            "_view_module": "@jupyter-widgets/base",
            "_view_module_version": "1.2.0",
            "_view_name": "StyleView",
            "description_width": ""
          }
        }
      }
    }
  },
  "cells": [
    {
      "cell_type": "markdown",
      "source": [
        "cell 1"
      ],
      "metadata": {
        "id": "EMbE9P48u7k8"
      }
    },
    {
      "cell_type": "code",
      "execution_count": 1,
      "metadata": {
        "colab": {
          "base_uri": "https://localhost:8080/"
        },
        "id": "iKQqkQjCmVyK",
        "outputId": "bc58cb10-b174-4558-e3b3-be6a133a9366"
      },
      "outputs": [
        {
          "output_type": "stream",
          "name": "stdout",
          "text": [
            "Found existing installation: langchain-core 0.1.53\n",
            "Uninstalling langchain-core-0.1.53:\n",
            "  Successfully uninstalled langchain-core-0.1.53\n",
            "Found existing installation: langgraph 0.0.33\n",
            "Uninstalling langgraph-0.0.33:\n",
            "  Successfully uninstalled langgraph-0.0.33\n",
            "\u001b[33mWARNING: Skipping langgraph-checkpoint as it is not installed.\u001b[0m\u001b[33m\n",
            "\u001b[0m\u001b[33mWARNING: Skipping langgraph-prebuilt as it is not installed.\u001b[0m\u001b[33m\n",
            "\u001b[0mFound existing installation: transformers 4.41.1\n",
            "Uninstalling transformers-4.41.1:\n",
            "  Successfully uninstalled transformers-4.41.1\n",
            "Found existing installation: datasets 2.19.0\n",
            "Uninstalling datasets-2.19.0:\n",
            "  Successfully uninstalled datasets-2.19.0\n",
            "Found existing installation: peft 0.11.1\n",
            "Uninstalling peft-0.11.1:\n",
            "  Successfully uninstalled peft-0.11.1\n",
            "Found existing installation: accelerate 0.29.3\n",
            "Uninstalling accelerate-0.29.3:\n",
            "  Successfully uninstalled accelerate-0.29.3\n",
            "\u001b[31mERROR: pip's dependency resolver does not currently take into account all the packages that are installed. This behaviour is the source of the following dependency conflicts.\n",
            "langchain-text-splitters 0.3.8 requires langchain-core<1.0.0,>=0.3.51, but you have langchain-core 0.1.53 which is incompatible.\n",
            "langchain 0.3.25 requires langchain-core<1.0.0,>=0.3.58, but you have langchain-core 0.1.53 which is incompatible.\u001b[0m\u001b[31m\n",
            "\u001b[0m\n",
            "Key package versions:\n",
            "accelerate                            0.29.3\n",
            "datasets                              2.19.0\n",
            "langgraph                             0.0.33\n",
            "peft                                  0.11.1\n",
            "sentence-transformers                 4.1.0\n",
            "tensorflow-datasets                   4.9.9\n",
            "torch                                 2.7.1\n",
            "torchao                               0.10.0\n",
            "torchaudio                            2.6.0+cu124\n",
            "torchdata                             0.11.0\n",
            "torchsummary                          1.5.1\n",
            "torchtune                             0.6.1\n",
            "torchvision                           0.21.0+cu124\n",
            "transformers                          4.41.1\n",
            "vega-datasets                         0.9.0\n"
          ]
        }
      ],
      "source": [
        "\n",
        "\n",
        "!pip uninstall -y langchain-core langgraph langgraph-checkpoint langgraph-prebuilt transformers datasets peft accelerate\n",
        "\n",
        "\n",
        "!pip install -q \\\n",
        "    transformers==4.41.1 \\\n",
        "    datasets==2.19.0 \\\n",
        "    peft==0.11.1 \\\n",
        "    accelerate==0.29.3 \\\n",
        "    langgraph==0.0.33 \\\n",
        "    scikit-learn==1.5.0 \\\n",
        "    huggingface_hub==0.23.1 \\\n",
        "    numpy==1.26.4 \\\n",
        "    packaging==23.2 \\\n",
        "    fsspec==2024.3.1 \\\n",
        "    requests==2.32.3 \\\n",
        "    torch==2.7.1\n",
        "\n",
        "print(\"\\nKey package versions:\")\n",
        "!pip list | grep -E \"transformers|datasets|peft|accelerate|langgraph|torch\""
      ]
    },
    {
      "cell_type": "markdown",
      "source": [
        "cell 2"
      ],
      "metadata": {
        "id": "IK-fqRhfu-Ve"
      }
    },
    {
      "cell_type": "code",
      "source": [
        "#Import libraries and setup with working logging\n",
        "from transformers import (\n",
        "    DistilBertTokenizer,\n",
        "    DistilBertForSequenceClassification,\n",
        "    TrainingArguments,\n",
        "    Trainer\n",
        ")\n",
        "from peft import (\n",
        "    get_peft_model,\n",
        "    LoraConfig,\n",
        "    TaskType\n",
        ")\n",
        "import torch\n",
        "import numpy as np\n",
        "from langgraph.graph import END, StateGraph\n",
        "import logging\n",
        "from datetime import datetime\n",
        "import os\n",
        "import pandas as pd\n",
        "from datasets import Dataset\n",
        "import sys  # Added for stdout logging\n",
        "\n",
        "# Create logger instance\n",
        "logger = logging.getLogger()\n",
        "logger.setLevel(logging.INFO)\n",
        "\n",
        "# Create file handler\n",
        "log_file = \"classification_log.txt\"\n",
        "file_handler = logging.FileHandler(log_file, mode='w')\n",
        "file_handler.setFormatter(logging.Formatter('%(asctime)s - %(levelname)s - %(message)s'))\n",
        "logger.addHandler(file_handler)\n",
        "\n",
        "# Create console handler for real-time output\n",
        "console_handler = logging.StreamHandler(sys.stdout)\n",
        "console_handler.setFormatter(logging.Formatter('%(asctime)s - %(levelname)s - %(message)s'))\n",
        "logger.addHandler(console_handler)\n",
        "\n",
        "# Verify GPU availability\n",
        "device = \"cuda\" if torch.cuda.is_available() else \"cpu\"\n",
        "print(f\"Using device: {device}\")\n",
        "logger.info(f\"Using device: {device}\")\n",
        "logger.info(\"Logging system initialized - this should appear in file\")"
      ],
      "metadata": {
        "colab": {
          "base_uri": "https://localhost:8080/"
        },
        "id": "Fkl6CrWauS27",
        "outputId": "a6d749ed-e6ba-40a7-c5ec-74bd413e6583"
      },
      "execution_count": 4,
      "outputs": [
        {
          "output_type": "stream",
          "name": "stderr",
          "text": [
            "INFO:root:Using device: cuda\n"
          ]
        },
        {
          "output_type": "stream",
          "name": "stdout",
          "text": [
            "Using device: cuda\n",
            "2025-06-23 21:47:12,952 - INFO - Using device: cuda\n",
            "2025-06-23 21:47:12,952 - INFO - Using device: cuda\n"
          ]
        },
        {
          "output_type": "stream",
          "name": "stderr",
          "text": [
            "INFO:root:Logging system initialized - this should appear in file\n"
          ]
        },
        {
          "output_type": "stream",
          "name": "stdout",
          "text": [
            "2025-06-23 21:47:12,955 - INFO - Logging system initialized - this should appear in file\n",
            "2025-06-23 21:47:12,955 - INFO - Logging system initialized - this should appear in file\n"
          ]
        }
      ]
    },
    {
      "cell_type": "markdown",
      "source": [
        "cell 3"
      ],
      "metadata": {
        "id": "TaRGlzjTvOZj"
      }
    },
    {
      "cell_type": "code",
      "source": [
        "#Download and prepare IMDB dataset directly\n",
        "# Manual download to avoid fsspec issues\n",
        "!wget -q https://ai.stanford.edu/~amaas/data/sentiment/aclImdb_v1.tar.gz\n",
        "!tar -xf aclImdb_v1.tar.gz\n",
        "\n",
        "def load_imdb_data(data_type='train'):\n",
        "    texts = []\n",
        "    labels = []\n",
        "\n",
        "    for label in ['pos', 'neg']:\n",
        "        path = f\"aclImdb/{data_type}/{label}\"\n",
        "        for file in os.listdir(path):\n",
        "            if file.endswith('.txt'):\n",
        "                with open(os.path.join(path, file), 'r', encoding='utf-8') as f:\n",
        "                    texts.append(f.read())\n",
        "                labels.append(1 if label == 'pos' else 0)\n",
        "\n",
        "    return pd.DataFrame({'text': texts, 'label': labels})\n",
        "# Load and split data\n",
        "train_df = load_imdb_data('train')\n",
        "test_df = load_imdb_data('test')\n",
        "\n",
        "# Create datasets\n",
        "train_dataset = Dataset.from_pandas(train_df)\n",
        "test_dataset = Dataset.from_pandas(test_df)\n",
        "dataset = {'train': train_dataset, 'test': test_dataset}\n",
        "\n",
        "# Define label mapping\n",
        "id2label = {0: \"NEGATIVE\", 1: \"POSITIVE\"}\n",
        "label2id = {\"NEGATIVE\": 0, \"POSITIVE\": 1}\n",
        "\n",
        "# Preprocess function\n",
        "tokenizer = DistilBertTokenizer.from_pretrained(\"distilbert-base-uncased\")\n",
        "def preprocess_function(examples):\n",
        "    return tokenizer(\n",
        "        examples[\"text\"],\n",
        "        truncation=True,\n",
        "        max_length=256,\n",
        "        padding=\"max_length\"\n",
        "    )\n",
        "\n",
        "# Preprocess dataset\n",
        "tokenized_dataset = {}\n",
        "for split in dataset:\n",
        "    tokenized_dataset[split] = dataset[split].map(\n",
        "        preprocess_function,\n",
        "        batched=True,\n",
        "        remove_columns=[\"text\"]\n",
        "    )\n",
        "    tokenized_dataset[split] = tokenized_dataset[split].rename_column(\"label\", \"labels\")"
      ],
      "metadata": {
        "colab": {
          "base_uri": "https://localhost:8080/",
          "height": 81,
          "referenced_widgets": [
            "a6bf1bcbcc50487b8d952f2edcedeb0c",
            "109920464b884cac837f8fcb9b3349dc",
            "670e4f69208544aca30e01b6ad11bc13",
            "27055a420c1e46d4a224945a9a8ea3ea",
            "1dfc15324c594edba2173eea74aae8c0",
            "91fa1b9fdd20499ea41806bf28bd5e8e",
            "669117ff122146e49950626654ae0f84",
            "de107fb91d8f47e6ac6351d1bee50aa8",
            "e033128ee6e54103855ff016d4216c08",
            "b178ac60c75b48ebaa64ba79dd1eff62",
            "4c497a683e564e699b2bc8753597d2b9",
            "1b62eed6a4b04f0d826e1ee02345dbe2",
            "1600f64577794dc2bb0254020ed21df4",
            "17bfc73aa1a94296849e330e969128e2",
            "0fb56f053e694cbbb9df5efdbf0b0b3a",
            "6220239b3b8740eb91720b7fffa175a8",
            "71d075b1855e407ea291f494b1277553",
            "1ceab745f2fd4e6eb5c39a92e151ad21",
            "581e06948dcd4311a366db84d8216eb2",
            "7a070d519a0745069abd92e5a407d808",
            "3b3cc8b98a634b7fa6bb92c5aa1fb1f2",
            "705bae4074354917895f06dedcc2401b"
          ]
        },
        "id": "U6LJmqAauyd6",
        "outputId": "d7846c7a-692e-468a-ba69-01761eb6f0c7"
      },
      "execution_count": 6,
      "outputs": [
        {
          "output_type": "display_data",
          "data": {
            "text/plain": [
              "Map:   0%|          | 0/25000 [00:00<?, ? examples/s]"
            ],
            "application/vnd.jupyter.widget-view+json": {
              "version_major": 2,
              "version_minor": 0,
              "model_id": "a6bf1bcbcc50487b8d952f2edcedeb0c"
            }
          },
          "metadata": {}
        },
        {
          "output_type": "display_data",
          "data": {
            "text/plain": [
              "Map:   0%|          | 0/25000 [00:00<?, ? examples/s]"
            ],
            "application/vnd.jupyter.widget-view+json": {
              "version_major": 2,
              "version_minor": 0,
              "model_id": "1b62eed6a4b04f0d826e1ee02345dbe2"
            }
          },
          "metadata": {}
        }
      ]
    },
    {
      "cell_type": "markdown",
      "source": [
        "cell 4"
      ],
      "metadata": {
        "id": "IHvQV-UC1I_U"
      }
    },
    {
      "cell_type": "code",
      "source": [
        "#Config LoRA for efficient fine-tuning\n",
        "model = DistilBertForSequenceClassification.from_pretrained(\n",
        "    \"distilbert-base-uncased\",\n",
        "    num_labels=2,\n",
        "    id2label=id2label,\n",
        "    label2id=label2id\n",
        ").to(device)\n",
        "\n",
        "peft_config = LoraConfig(\n",
        "    task_type=TaskType.SEQ_CLS,\n",
        "    r=4,\n",
        "    lora_alpha=32,\n",
        "    lora_dropout=0.01,\n",
        "    inference_mode=False,\n",
        "    target_modules=[\"q_lin\", \"v_lin\"]\n",
        ")\n",
        "model = get_peft_model(model, peft_config)\n",
        "model.print_trainable_parameters()"
      ],
      "metadata": {
        "colab": {
          "base_uri": "https://localhost:8080/",
          "height": 121,
          "referenced_widgets": [
            "6577055bedb64a999023310a15ea3519",
            "da348b844fd342d3aa099682612022a9",
            "7a4e1fff1073403aa4f252a55fcb61c4",
            "c7394443066f47e489a1fcbd2a0db372",
            "205935131c0e451f8d670da2a5440ce5",
            "0233c46fb9e5442a92ca3b3c9086ca0f",
            "0bcb8d912a634712b2161fb29dc9018f",
            "869927d1ad8f4416a75f569c909caeea",
            "b82b33a077234a1a9f42093a3061ea3b",
            "4d2818f79bc5450aa818d4f0e7f31f32",
            "867f0dd832e04d7f92808f352476de97"
          ]
        },
        "id": "QdJ9guA8vKU8",
        "outputId": "1ef56391-305b-4c25-b626-89832565c9b2"
      },
      "execution_count": 7,
      "outputs": [
        {
          "output_type": "display_data",
          "data": {
            "text/plain": [
              "model.safetensors:   0%|          | 0.00/268M [00:00<?, ?B/s]"
            ],
            "application/vnd.jupyter.widget-view+json": {
              "version_major": 2,
              "version_minor": 0,
              "model_id": "6577055bedb64a999023310a15ea3519"
            }
          },
          "metadata": {}
        },
        {
          "output_type": "stream",
          "name": "stderr",
          "text": [
            "Some weights of DistilBertForSequenceClassification were not initialized from the model checkpoint at distilbert-base-uncased and are newly initialized: ['classifier.bias', 'classifier.weight', 'pre_classifier.bias', 'pre_classifier.weight']\n",
            "You should probably TRAIN this model on a down-stream task to be able to use it for predictions and inference.\n"
          ]
        },
        {
          "output_type": "stream",
          "name": "stdout",
          "text": [
            "trainable params: 665,858 || all params: 67,620,868 || trainable%: 0.9847\n"
          ]
        }
      ]
    },
    {
      "cell_type": "markdown",
      "source": [
        "cell 5"
      ],
      "metadata": {
        "id": "8kpkLi05AyJZ"
      }
    },
    {
      "cell_type": "code",
      "source": [
        "# Training setup and execution\n",
        "import transformers\n",
        "\n",
        "# Print Transformers version to confirm compatibility\n",
        "print(f\"Transformers version: {transformers.__version__}\")\n",
        "\n",
        "# appropriate parameter names based on version\n",
        "if transformers.__version__.startswith('4.41'):\n",
        "    training_args = TrainingArguments(\n",
        "        output_dir=\"./results\",\n",
        "        evaluation_strategy=\"epoch\",\n",
        "        learning_rate=2e-5,\n",
        "        per_device_train_batch_size=16,\n",
        "        per_device_eval_batch_size=16,\n",
        "        num_train_epochs=2,\n",
        "        weight_decay=0.01,\n",
        "        save_strategy=\"no\",\n",
        "        logging_dir=\"./logs\",\n",
        "        report_to=\"none\",\n",
        "        optim=\"adamw_torch\",\n",
        "        fp16=True\n",
        "    )\n",
        "else:\n",
        "    # Fallback for newer versions\n",
        "    training_args = TrainingArguments(\n",
        "        output_dir=\"./results\",\n",
        "        eval_strategy=\"epoch\",  # Newer versions\n",
        "        learning_rate=2e-5,\n",
        "        per_device_train_batch_size=16,\n",
        "        per_device_eval_batch_size=16,\n",
        "        num_train_epochs=2,\n",
        "        weight_decay=0.01,\n",
        "        save_strategy=\"no\",\n",
        "        logging_dir=\"./logs\",\n",
        "        report_to=\"none\",\n",
        "        optim=\"adamw_torch\",\n",
        "        fp16=True\n",
        "    )\n",
        "\n",
        "trainer = Trainer(\n",
        "    model=model,\n",
        "    args=training_args,\n",
        "    train_dataset=tokenized_dataset[\"train\"].shuffle(seed=42).select(range(1000)),\n",
        "    eval_dataset=tokenized_dataset[\"test\"].shuffle(seed=42).select(range(200)),\n",
        "    compute_metrics=lambda p: {\"accuracy\": (p.predictions.argmax(-1) == p.label_ids).mean()}\n",
        ")\n",
        "\n",
        "print(\"Starting training...\")\n",
        "trainer.train()\n",
        "print(\"Training completed!\")\n",
        "\n",
        "# Save model\n",
        "model.save_pretrained(\"fine-tuned-model\")\n",
        "tokenizer.save_pretrained(\"fine-tuned-model\")"
      ],
      "metadata": {
        "colab": {
          "base_uri": "https://localhost:8080/",
          "height": 384
        },
        "id": "-sIFAMJs1Vf8",
        "outputId": "a1615c04-d507-4574-8ccc-ca613a7ff6b8"
      },
      "execution_count": 8,
      "outputs": [
        {
          "output_type": "stream",
          "name": "stdout",
          "text": [
            "Transformers version: 4.41.1\n",
            "Starting training...\n"
          ]
        },
        {
          "output_type": "stream",
          "name": "stderr",
          "text": [
            "/usr/local/lib/python3.11/dist-packages/transformers/training_args.py:1474: FutureWarning: `evaluation_strategy` is deprecated and will be removed in version 4.46 of 🤗 Transformers. Use `eval_strategy` instead\n",
            "  warnings.warn(\n",
            "/usr/local/lib/python3.11/dist-packages/accelerate/accelerator.py:469: FutureWarning: `torch.cuda.amp.GradScaler(args...)` is deprecated. Please use `torch.amp.GradScaler('cuda', args...)` instead.\n",
            "  self.scaler = torch.cuda.amp.GradScaler(**kwargs)\n"
          ]
        },
        {
          "output_type": "display_data",
          "data": {
            "text/plain": [
              "<IPython.core.display.HTML object>"
            ],
            "text/html": [
              "\n",
              "    <div>\n",
              "      \n",
              "      <progress value='126' max='126' style='width:300px; height:20px; vertical-align: middle;'></progress>\n",
              "      [126/126 00:13, Epoch 2/2]\n",
              "    </div>\n",
              "    <table border=\"1\" class=\"dataframe\">\n",
              "  <thead>\n",
              " <tr style=\"text-align: left;\">\n",
              "      <th>Epoch</th>\n",
              "      <th>Training Loss</th>\n",
              "      <th>Validation Loss</th>\n",
              "      <th>Accuracy</th>\n",
              "    </tr>\n",
              "  </thead>\n",
              "  <tbody>\n",
              "    <tr>\n",
              "      <td>1</td>\n",
              "      <td>No log</td>\n",
              "      <td>0.680347</td>\n",
              "      <td>0.585000</td>\n",
              "    </tr>\n",
              "    <tr>\n",
              "      <td>2</td>\n",
              "      <td>No log</td>\n",
              "      <td>0.675574</td>\n",
              "      <td>0.615000</td>\n",
              "    </tr>\n",
              "  </tbody>\n",
              "</table><p>"
            ]
          },
          "metadata": {}
        },
        {
          "output_type": "stream",
          "name": "stdout",
          "text": [
            "Training completed!\n"
          ]
        },
        {
          "output_type": "stream",
          "name": "stderr",
          "text": [
            "/usr/local/lib/python3.11/dist-packages/huggingface_hub/file_download.py:1132: FutureWarning: `resume_download` is deprecated and will be removed in version 1.0.0. Downloads always resume when possible. If you want to force a new download, use `force_download=True`.\n",
            "  warnings.warn(\n"
          ]
        },
        {
          "output_type": "execute_result",
          "data": {
            "text/plain": [
              "('fine-tuned-model/tokenizer_config.json',\n",
              " 'fine-tuned-model/special_tokens_map.json',\n",
              " 'fine-tuned-model/vocab.txt',\n",
              " 'fine-tuned-model/added_tokens.json')"
            ]
          },
          "metadata": {},
          "execution_count": 8
        }
      ]
    },
    {
      "cell_type": "markdown",
      "source": [
        "cell 6"
      ],
      "metadata": {
        "id": "By7X6gErCb5w"
      }
    },
    {
      "cell_type": "code",
      "source": [
        "# inference function with confidence\n",
        "def classify_text(text, model, tokenizer, device):\n",
        "    # Set model to evaluation mode\n",
        "    model.eval()\n",
        "\n",
        "    # Tokenize input\n",
        "    inputs = tokenizer(\n",
        "        text,\n",
        "        return_tensors=\"pt\",\n",
        "        truncation=True,\n",
        "        max_length=256,\n",
        "        padding=\"max_length\"\n",
        "    ).to(device)\n",
        "    # Run inference\n",
        "    with torch.no_grad():\n",
        "        outputs = model(**inputs)\n",
        "\n",
        "    # Convert logits to probabilities\n",
        "    probs = torch.nn.functional.softmax(outputs.logits, dim=-1)\n",
        "    confidence, predicted = torch.max(probs, dim=1)\n",
        "\n",
        "    # Return label and confidence\n",
        "    return model.config.id2label[predicted.item()], confidence.item()"
      ],
      "metadata": {
        "id": "jyHVYT7AAqXP"
      },
      "execution_count": 9,
      "outputs": []
    },
    {
      "cell_type": "markdown",
      "source": [
        "cell 7"
      ],
      "metadata": {
        "id": "IEeJMD3yC36p"
      }
    },
    {
      "cell_type": "code",
      "source": [
        "# LangGraph state and nodes with dictionary-based state\n",
        "from typing import TypedDict, Annotated\n",
        "from langgraph.graph.message import add_messages\n",
        "\n",
        "# state structure\n",
        "class State(TypedDict):\n",
        "    text: str\n",
        "    label: str\n",
        "    confidence: float\n",
        "    corrected_label: str\n",
        "    needs_correction: bool\n",
        "    user_feedback: str\n",
        "def inference_node(state: State) -> dict:\n",
        "    logger.info(f\"Input text: {state['text']}\")\n",
        "    label, confidence = classify_text(state['text'], model, tokenizer, device)\n",
        "    logger.info(f\"[InferenceNode] Predicted: {label} | Confidence: {confidence:.2%}\")\n",
        "    print(f\"[InferenceNode] Predicted: {label} | Confidence: {confidence:.2%}\")\n",
        "    return {\n",
        "        \"label\": label,\n",
        "        \"confidence\": confidence,\n",
        "        \"needs_correction\": False  # Reset for new input\n",
        "    }\n",
        "def confidence_check_node(state: State) -> dict:\n",
        "    CONFIDENCE_THRESHOLD = 0.7\n",
        "    needs_correction = state[\"confidence\"] < CONFIDENCE_THRESHOLD\n",
        "\n",
        "    if needs_correction:\n",
        "        logger.info(f\"[ConfidenceCheckNode] Confidence too low. Triggering fallback...\")\n",
        "        print(f\"[ConfidenceCheckNode] Confidence too low. Triggering fallback...\")\n",
        "\n",
        "    return {\"needs_correction\": needs_correction}\n",
        "def fallback_node(state: State) -> dict:\n",
        "    print(f\"\\n[FallbackNode] Could you clarify? Was this review positive or negative?\")\n",
        "    user_input = input(\"User: \").strip().lower()\n",
        "\n",
        "    # Process user clarification\n",
        "    if \"positive\" in user_input:\n",
        "        corrected_label = \"POSITIVE\"\n",
        "    elif \"negative\" in user_input:\n",
        "        corrected_label = \"NEGATIVE\"\n",
        "    else:\n",
        "        corrected_label = state[\"label\"]  # Default to original prediction\n",
        "\n",
        "    logger.info(f\"[FallbackNode] User feedback: {user_input}\")\n",
        "    return {\n",
        "        \"corrected_label\": corrected_label,\n",
        "        \"user_feedback\": user_input\n",
        "    }"
      ],
      "metadata": {
        "id": "Iabm2QMXC19p"
      },
      "execution_count": 10,
      "outputs": []
    },
    {
      "cell_type": "markdown",
      "source": [
        "cell 8"
      ],
      "metadata": {
        "id": "RtBP0PTwDOrI"
      }
    },
    {
      "cell_type": "code",
      "source": [
        "# LangGraph workflow with proper state management\n",
        "from langgraph.graph import END, StateGraph\n",
        "\n",
        "# workflow with defined state structure\n",
        "workflow = StateGraph(State)\n",
        "\n",
        "# Add nodes\n",
        "workflow.add_node(\"inference\", inference_node)\n",
        "workflow.add_node(\"confidence_check\", confidence_check_node)\n",
        "workflow.add_node(\"fallback\", fallback_node)\n",
        "\n",
        "# Set entry point\n",
        "workflow.set_entry_point(\"inference\")\n",
        "\n",
        "# Connect nodes\n",
        "workflow.add_edge(\"inference\", \"confidence_check\")\n",
        "# Conditional edge based on confidence\n",
        "workflow.add_conditional_edges(\n",
        "    \"confidence_check\",\n",
        "    lambda state: \"fallback\" if state[\"needs_correction\"] else END,\n",
        "    {\"fallback\": \"fallback\", END: END}\n",
        ")\n",
        "\n",
        "# Connect fallback to end\n",
        "workflow.add_edge(\"fallback\", END)\n",
        "\n",
        "# Compile the workflow\n",
        "app = workflow.compile()"
      ],
      "metadata": {
        "id": "yOiglBEQDMwc"
      },
      "execution_count": 11,
      "outputs": []
    },
    {
      "cell_type": "markdown",
      "source": [
        "cell 9"
      ],
      "metadata": {
        "id": "glHyTogZDhFx"
      }
    },
    {
      "cell_type": "code",
      "source": [
        "# CLI execution loop with dictionary state\n",
        "def run_cli():\n",
        "    print(\"\\n\" + \"=\"*50)\n",
        "    print(\"Text Classification System with Self-Healing\")\n",
        "    print(\"Enter 'exit' to quit\")\n",
        "    print(\"=\"*50)\n",
        "\n",
        "    while True:\n",
        "        text = input(\"\\nEnter text: \").strip()\n",
        "        if text.lower() == 'exit':\n",
        "            break\n",
        "\n",
        "        #initial state\n",
        "        initial_state = {\n",
        "            \"text\": text,\n",
        "            \"label\": \"\",\n",
        "            \"confidence\": 0.0,\n",
        "            \"corrected_label\": \"\",\n",
        "            \"needs_correction\": False,\n",
        "            \"user_feedback\": \"\"\n",
        "        }\n",
        "        # Execute workflow\n",
        "        result = app.invoke(initial_state)\n",
        "\n",
        "        # Determine final label\n",
        "        final_label = result[\"corrected_label\"] if result[\"corrected_label\"] else result[\"label\"]\n",
        "        print(f\"\\nFinal Label: {final_label}\")\n",
        "\n",
        "        # Log final decision\n",
        "        logger.info(f\"Final decision: {final_label}\")\n",
        "        logger.info(\"-\"*50)"
      ],
      "metadata": {
        "id": "4K0QNGKGDZkK"
      },
      "execution_count": 12,
      "outputs": []
    },
    {
      "cell_type": "markdown",
      "source": [
        "cell 10"
      ],
      "metadata": {
        "id": "8e_hXO1DD1R-"
      }
    },
    {
      "cell_type": "code",
      "source": [
        "#CLI\n",
        "print(\"Launching classification system...\")\n",
        "run_cli()"
      ],
      "metadata": {
        "colab": {
          "base_uri": "https://localhost:8080/"
        },
        "id": "lfzSyl3XDxaX",
        "outputId": "f9f5a1e7-1739-4e35-c28e-346344e3eef2"
      },
      "execution_count": 13,
      "outputs": [
        {
          "name": "stdout",
          "output_type": "stream",
          "text": [
            "Launching classification system...\n",
            "\n",
            "==================================================\n",
            "Text Classification System with Self-Healing\n",
            "Enter 'exit' to quit\n",
            "==================================================\n",
            "\n",
            "Enter text: The movie was painfully slow and boring.\n"
          ]
        },
        {
          "output_type": "stream",
          "name": "stderr",
          "text": [
            "INFO:root:Input text: The movie was painfully slow and boring.\n"
          ]
        },
        {
          "output_type": "stream",
          "name": "stdout",
          "text": [
            "2025-06-23 21:59:27,885 - INFO - Input text: The movie was painfully slow and boring.\n",
            "2025-06-23 21:59:27,885 - INFO - Input text: The movie was painfully slow and boring.\n"
          ]
        },
        {
          "output_type": "stream",
          "name": "stderr",
          "text": [
            "INFO:root:[InferenceNode] Predicted: POSITIVE | Confidence: 51.66%\n"
          ]
        },
        {
          "output_type": "stream",
          "name": "stdout",
          "text": [
            "2025-06-23 21:59:27,961 - INFO - [InferenceNode] Predicted: POSITIVE | Confidence: 51.66%\n",
            "2025-06-23 21:59:27,961 - INFO - [InferenceNode] Predicted: POSITIVE | Confidence: 51.66%\n"
          ]
        },
        {
          "output_type": "stream",
          "name": "stderr",
          "text": [
            "INFO:root:[ConfidenceCheckNode] Confidence too low. Triggering fallback...\n"
          ]
        },
        {
          "name": "stdout",
          "output_type": "stream",
          "text": [
            "[InferenceNode] Predicted: POSITIVE | Confidence: 51.66%\n",
            "2025-06-23 21:59:27,973 - INFO - [ConfidenceCheckNode] Confidence too low. Triggering fallback...\n",
            "2025-06-23 21:59:27,973 - INFO - [ConfidenceCheckNode] Confidence too low. Triggering fallback...\n",
            "[ConfidenceCheckNode] Confidence too low. Triggering fallback...\n",
            "\n",
            "[FallbackNode] Could you clarify? Was this review positive or negative?\n",
            "User: it was definitely negative.\n"
          ]
        },
        {
          "output_type": "stream",
          "name": "stderr",
          "text": [
            "INFO:root:[FallbackNode] User feedback: it was definitely negative.\n"
          ]
        },
        {
          "output_type": "stream",
          "name": "stdout",
          "text": [
            "2025-06-23 21:59:59,715 - INFO - [FallbackNode] User feedback: it was definitely negative.\n",
            "2025-06-23 21:59:59,715 - INFO - [FallbackNode] User feedback: it was definitely negative.\n"
          ]
        },
        {
          "output_type": "stream",
          "name": "stderr",
          "text": [
            "INFO:root:Final decision: NEGATIVE\n"
          ]
        },
        {
          "output_type": "stream",
          "name": "stdout",
          "text": [
            "\n",
            "Final Label: NEGATIVE\n",
            "2025-06-23 21:59:59,719 - INFO - Final decision: NEGATIVE\n",
            "2025-06-23 21:59:59,719 - INFO - Final decision: NEGATIVE\n"
          ]
        },
        {
          "output_type": "stream",
          "name": "stderr",
          "text": [
            "INFO:root:--------------------------------------------------\n"
          ]
        },
        {
          "name": "stdout",
          "output_type": "stream",
          "text": [
            "2025-06-23 21:59:59,721 - INFO - --------------------------------------------------\n",
            "2025-06-23 21:59:59,721 - INFO - --------------------------------------------------\n",
            "\n",
            "Enter text: exit\n"
          ]
        }
      ]
    },
    {
      "cell_type": "markdown",
      "source": [
        "cell 11"
      ],
      "metadata": {
        "id": "P4biww7gMsO8"
      }
    },
    {
      "cell_type": "code",
      "source": [
        "#Display log file contents with verification\n",
        "print(\"\\nLog File Contents:\")\n",
        "print(\"=\"*50)\n",
        "\n",
        "# Read and print log file\n",
        "try:\n",
        "    with open(log_file, 'r') as f:\n",
        "        content = f.read()\n",
        "        if content:\n",
        "            print(content)\n",
        "        else:\n",
        "            print(\"Log file is empty. Check logger configuration.\")\n",
        "            print(\"Recent log messages from handlers:\")\n",
        "            for handler in logger.handlers:\n",
        "                if isinstance(handler, logging.FileHandler):\n",
        "                    print(f\"FileHandler: {handler.baseFilename}\")\n",
        "\n",
        "            # Print test log message\n",
        "            logger.info(\"Test message written at end of execution\")\n",
        "            with open(log_file, 'r') as f2:\n",
        "                test_content = f2.read()\n",
        "                print(\"\\nAfter writing test message:\")\n",
        "                print(test_content)\n",
        "except Exception as e:\n",
        "    print(f\"Error reading log file: {e}\")\n",
        "    print(\"Current directory contents:\")\n",
        "    print(os.listdir('.'))"
      ],
      "metadata": {
        "id": "30kNCFD7D49W",
        "colab": {
          "base_uri": "https://localhost:8080/"
        },
        "outputId": "a11320d3-a12a-4963-da12-99b8e75d84f3"
      },
      "execution_count": 14,
      "outputs": [
        {
          "output_type": "stream",
          "name": "stdout",
          "text": [
            "\n",
            "Log File Contents:\n",
            "==================================================\n",
            "2025-06-23 21:47:12,952 - INFO - Using device: cuda\n",
            "2025-06-23 21:47:12,955 - INFO - Logging system initialized - this should appear in file\n",
            "2025-06-23 21:59:27,885 - INFO - Input text: The movie was painfully slow and boring.\n",
            "2025-06-23 21:59:27,961 - INFO - [InferenceNode] Predicted: POSITIVE | Confidence: 51.66%\n",
            "2025-06-23 21:59:27,973 - INFO - [ConfidenceCheckNode] Confidence too low. Triggering fallback...\n",
            "2025-06-23 21:59:59,715 - INFO - [FallbackNode] User feedback: it was definitely negative.\n",
            "2025-06-23 21:59:59,719 - INFO - Final decision: NEGATIVE\n",
            "2025-06-23 21:59:59,721 - INFO - --------------------------------------------------\n",
            "025-06-23 21:59:59,719 - INFO - Final decision: NEGATIVE\n",
            "2025-06-23 21:59:59,721 - INFO - --------------------------------------------------\n",
            "\n"
          ]
        }
      ]
    },
    {
      "cell_type": "markdown",
      "source": [
        "cell 12"
      ],
      "metadata": {
        "id": "wtIxvoQmYAaq"
      }
    },
    {
      "cell_type": "code",
      "source": [
        "# Google Drive Saver\n",
        "from google.colab import drive\n",
        "import os\n",
        "from datetime import datetime\n",
        "\n",
        "# Mount Google Drive\n",
        "drive.mount('/content/drive', force_remount=True)\n",
        "print(\"Google Drive mounted!\")\n",
        "\n",
        "# folder\n",
        "folder_name = \"ATG_Assignment_Submission\"\n",
        "target_path = f\"/content/drive/MyDrive/{folder_name}\"\n",
        "os.makedirs(target_path, exist_ok=True)\n",
        "print(f\"Created folder: {target_path}\")\n",
        "\n",
        "# trained model\n",
        "model_path = f\"{target_path}/fine-tuned-model\"\n",
        "!cp -r fine-tuned-model \"{model_path}\"\n",
        "print(f\"Saved model to: {model_path}\")\n",
        "\n",
        "# log file\n",
        "log_path = f\"{target_path}/classification_log.txt\"\n",
        "!cp classification_log.txt \"{log_path}\"\n",
        "print(f\"Saved log to: {log_path}\")"
      ],
      "metadata": {
        "colab": {
          "base_uri": "https://localhost:8080/"
        },
        "id": "5Ke_Hkm3Qc61",
        "outputId": "d205b533-1eac-4707-f6c3-b13541c752e5"
      },
      "execution_count": 19,
      "outputs": [
        {
          "output_type": "stream",
          "name": "stdout",
          "text": [
            "Mounted at /content/drive\n",
            "Google Drive mounted!\n",
            "Created folder: /content/drive/MyDrive/ATG_Assignment_Submission\n",
            "Saved model to: /content/drive/MyDrive/ATG_Assignment_Submission/fine-tuned-model\n",
            "Saved log to: /content/drive/MyDrive/ATG_Assignment_Submission/classification_log.txt\n"
          ]
        }
      ]
    }
  ]
}